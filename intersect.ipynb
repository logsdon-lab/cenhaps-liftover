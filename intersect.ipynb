{
 "cells": [
  {
   "cell_type": "code",
   "execution_count": 2,
   "metadata": {},
   "outputs": [],
   "source": [
    "import polars as pl\n",
    "from intervaltree import IntervalTree, Interval"
   ]
  },
  {
   "cell_type": "code",
   "execution_count": 3,
   "metadata": {},
   "outputs": [
    {
     "data": {
      "text/html": [
       "<div><style>\n",
       ".dataframe > thead > tr,\n",
       ".dataframe > tbody > tr {\n",
       "  text-align: right;\n",
       "  white-space: pre-wrap;\n",
       "}\n",
       "</style>\n",
       "<small>shape: (23, 4)</small><table border=\"1\" class=\"dataframe\"><thead><tr><th>chr</th><th>start</th><th>end</th><th>length</th></tr><tr><td>str</td><td>i64</td><td>i64</td><td>i64</td></tr></thead><tbody><tr><td>&quot;chr1&quot;</td><td>118753176</td><td>147302491</td><td>28549315</td></tr><tr><td>&quot;chr2&quot;</td><td>88012476</td><td>98516864</td><td>10504388</td></tr><tr><td>&quot;chr3&quot;</td><td>89151152</td><td>97946851</td><td>8795699</td></tr><tr><td>&quot;chr4&quot;</td><td>47517515</td><td>56878107</td><td>9360592</td></tr><tr><td>&quot;chr5&quot;</td><td>45120933</td><td>52498253</td><td>7377320</td></tr><tr><td>&hellip;</td><td>&hellip;</td><td>&hellip;</td><td>&hellip;</td></tr><tr><td>&quot;chr19&quot;</td><td>23789807</td><td>30598756</td><td>6808949</td></tr><tr><td>&quot;chr20&quot;</td><td>25039616</td><td>34291110</td><td>9251494</td></tr><tr><td>&quot;chr21&quot;</td><td>null</td><td>12752875</td><td>12752875</td></tr><tr><td>&quot;chr22&quot;</td><td>null</td><td>18280857</td><td>18280857</td></tr><tr><td>&quot;chrX&quot;</td><td>54679731</td><td>64715293</td><td>10035562</td></tr></tbody></table></div>"
      ],
      "text/plain": [
       "shape: (23, 4)\n",
       "┌───────┬───────────┬───────────┬──────────┐\n",
       "│ chr   ┆ start     ┆ end       ┆ length   │\n",
       "│ ---   ┆ ---       ┆ ---       ┆ ---      │\n",
       "│ str   ┆ i64       ┆ i64       ┆ i64      │\n",
       "╞═══════╪═══════════╪═══════════╪══════════╡\n",
       "│ chr1  ┆ 118753176 ┆ 147302491 ┆ 28549315 │\n",
       "│ chr2  ┆ 88012476  ┆ 98516864  ┆ 10504388 │\n",
       "│ chr3  ┆ 89151152  ┆ 97946851  ┆ 8795699  │\n",
       "│ chr4  ┆ 47517515  ┆ 56878107  ┆ 9360592  │\n",
       "│ chr5  ┆ 45120933  ┆ 52498253  ┆ 7377320  │\n",
       "│ …     ┆ …         ┆ …         ┆ …        │\n",
       "│ chr19 ┆ 23789807  ┆ 30598756  ┆ 6808949  │\n",
       "│ chr20 ┆ 25039616  ┆ 34291110  ┆ 9251494  │\n",
       "│ chr21 ┆ null      ┆ 12752875  ┆ 12752875 │\n",
       "│ chr22 ┆ null      ┆ 18280857  ┆ 18280857 │\n",
       "│ chrX  ┆ 54679731  ┆ 64715293  ┆ 10035562 │\n",
       "└───────┴───────────┴───────────┴──────────┘"
      ]
     },
     "execution_count": 3,
     "metadata": {},
     "output_type": "execute_result"
    }
   ],
   "source": [
    "df_ld_regions = pl.read_csv(\n",
    "    \"data/pq_arm.bed\",\n",
    "    separator=\"\\t\",\n",
    "    has_header=False,\n",
    "    new_columns=[\"chr\", \"start\", \"end\", \"length\"],\n",
    "    null_values=[\"N/A\"],\n",
    "    truncate_ragged_lines=True,\n",
    ")\n",
    "df_ld_regions"
   ]
  },
  {
   "cell_type": "code",
   "execution_count": 4,
   "metadata": {},
   "outputs": [],
   "source": [
    "SEGDUP_COLS = [\n",
    "    \"chrom\",\n",
    "    \"chromStart\",\n",
    "    \"chromEnd\",\n",
    "    \"name\",\n",
    "    \"score\",\n",
    "    \"strand\",\n",
    "    \"thickStart\",\n",
    "    \"thickEnd\",\n",
    "    \"color\",\n",
    "    \"chrom2\",\n",
    "    \"Start2\",\n",
    "    \"End2\",\n",
    "    \"score2\",\n",
    "    \"strand2\",\n",
    "    \"maxlen\",\n",
    "    \"alnlen\",\n",
    "    \"indela\",\n",
    "    \"indelb\",\n",
    "    \"alnB\",\n",
    "    \"matchB\",\n",
    "    \"mismatchB\",\n",
    "    \"transitionsB\",\n",
    "    \"transvertionsB\",\n",
    "    \"fracMatch\",\n",
    "    \"fracMatchIndel\",\n",
    "    \"jck\",\n",
    "    \"k2K\",\n",
    "    \"alngaps\",\n",
    "    \"uppercaseA\",\n",
    "    \"uppercaseB\",\n",
    "    \"uppercaseMatches\",\n",
    "    \"alnMatches\",\n",
    "    \"alnMismatches\",\n",
    "    \"alnGapBases\",\n",
    "    \"filterScore\",\n",
    "    \"satBases\",\n",
    "    \"uniqueID\",\n",
    "    \"original\",\n",
    "    \"telo\",\n",
    "    \"peri\",\n",
    "    \"acro\",\n",
    "    \"telo2\",\n",
    "    \"peri2\",\n",
    "    \"acro2\"\n",
    "]"
   ]
  },
  {
   "cell_type": "code",
   "execution_count": 5,
   "metadata": {},
   "outputs": [
    {
     "data": {
      "text/html": [
       "<div><style>\n",
       ".dataframe > thead > tr,\n",
       ".dataframe > tbody > tr {\n",
       "  text-align: right;\n",
       "  white-space: pre-wrap;\n",
       "}\n",
       "</style>\n",
       "<small>shape: (83_516, 44)</small><table border=\"1\" class=\"dataframe\"><thead><tr><th>chrom</th><th>chromStart</th><th>chromEnd</th><th>name</th><th>score</th><th>strand</th><th>thickStart</th><th>thickEnd</th><th>color</th><th>chrom2</th><th>Start2</th><th>End2</th><th>score2</th><th>strand2</th><th>maxlen</th><th>alnlen</th><th>indela</th><th>indelb</th><th>alnB</th><th>matchB</th><th>mismatchB</th><th>transitionsB</th><th>transvertionsB</th><th>fracMatch</th><th>fracMatchIndel</th><th>jck</th><th>k2K</th><th>alngaps</th><th>uppercaseA</th><th>uppercaseB</th><th>uppercaseMatches</th><th>alnMatches</th><th>alnMismatches</th><th>alnGapBases</th><th>filterScore</th><th>satBases</th><th>uniqueID</th><th>original</th><th>telo</th><th>peri</th><th>acro</th><th>telo2</th><th>peri2</th><th>acro2</th></tr><tr><td>str</td><td>i64</td><td>i64</td><td>str</td><td>i64</td><td>str</td><td>i64</td><td>i64</td><td>str</td><td>str</td><td>i64</td><td>i64</td><td>f64</td><td>str</td><td>i64</td><td>i64</td><td>i64</td><td>i64</td><td>i64</td><td>i64</td><td>i64</td><td>i64</td><td>i64</td><td>f64</td><td>f64</td><td>f64</td><td>f64</td><td>i64</td><td>i64</td><td>i64</td><td>i64</td><td>i64</td><td>i64</td><td>i64</td><td>f64</td><td>i64</td><td>i64</td><td>bool</td><td>i64</td><td>i64</td><td>i64</td><td>i64</td><td>i64</td><td>i64</td></tr></thead><tbody><tr><td>&quot;chr1&quot;</td><td>1</td><td>13731</td><td>&quot;chr9:150595369…</td><td>0</td><td>&quot;+&quot;</td><td>1</td><td>13731</td><td>&quot;154,154,154&quot;</td><td>&quot;chr9&quot;</td><td>150595369</td><td>150617116</td><td>44.8</td><td>&quot;-&quot;</td><td>21747</td><td>22497</td><td>8767</td><td>750</td><td>12980</td><td>12422</td><td>558</td><td>240</td><td>318</td><td>0.957011</td><td>0.552163</td><td>0.0442705</td><td>0.044285</td><td>66</td><td>3670</td><td>4662</td><td>3432</td><td>12422</td><td>558</td><td>9517</td><td>0.952169</td><td>1693</td><td>4</td><td>true</td><td>1</td><td>0</td><td>0</td><td>1</td><td>0</td><td>0</td></tr><tr><td>&quot;chr1&quot;</td><td>3</td><td>140066</td><td>&quot;chr6:171986258…</td><td>0</td><td>&quot;+&quot;</td><td>3</td><td>140066</td><td>&quot;255,103,0&quot;</td><td>&quot;chr6&quot;</td><td>171986258</td><td>172126591</td><td>11.6</td><td>&quot;-&quot;</td><td>140333</td><td>148402</td><td>8339</td><td>8069</td><td>131994</td><td>131242</td><td>752</td><td>438</td><td>314</td><td>0.994303</td><td>0.884368</td><td>0.005719</td><td>0.005721</td><td>126</td><td>56586</td><td>61380</td><td>54101</td><td>131242</td><td>752</td><td>16408</td><td>0.993355</td><td>1693</td><td>5</td><td>true</td><td>1</td><td>0</td><td>0</td><td>1</td><td>0</td><td>0</td></tr><tr><td>&quot;chr1&quot;</td><td>16</td><td>13731</td><td>&quot;chr20:599-2174…</td><td>0</td><td>&quot;+&quot;</td><td>16</td><td>13731</td><td>&quot;167,167,167&quot;</td><td>&quot;chr20&quot;</td><td>599</td><td>21749</td><td>47.1</td><td>&quot;+&quot;</td><td>21150</td><td>22350</td><td>8635</td><td>1200</td><td>12515</td><td>11832</td><td>683</td><td>274</td><td>409</td><td>0.945425</td><td>0.529396</td><td>0.056662</td><td>0.0566739</td><td>49</td><td>3670</td><td>4825</td><td>3511</td><td>11832</td><td>683</td><td>9835</td><td>0.941738</td><td>1693</td><td>14</td><td>true</td><td>1</td><td>0</td><td>0</td><td>1</td><td>0</td><td>0</td></tr><tr><td>&quot;chr1&quot;</td><td>16</td><td>13731</td><td>&quot;chr7:156-22557…</td><td>0</td><td>&quot;+&quot;</td><td>16</td><td>13731</td><td>&quot;147,147,147&quot;</td><td>&quot;chr7&quot;</td><td>156</td><td>22557</td><td>43.6</td><td>&quot;+&quot;</td><td>22401</td><td>22787</td><td>9072</td><td>386</td><td>13329</td><td>12841</td><td>488</td><td>226</td><td>262</td><td>0.963388</td><td>0.563523</td><td>0.0375357</td><td>0.0375544</td><td>62</td><td>3670</td><td>4961</td><td>3508</td><td>12841</td><td>488</td><td>9458</td><td>0.958928</td><td>1693</td><td>15</td><td>true</td><td>1</td><td>0</td><td>0</td><td>1</td><td>0</td><td>0</td></tr><tr><td>&quot;chr1&quot;</td><td>16</td><td>198196</td><td>&quot;chr5:181848663…</td><td>0</td><td>&quot;+&quot;</td><td>16</td><td>198196</td><td>&quot;255,103,0&quot;</td><td>&quot;chr5&quot;</td><td>181848663</td><td>182045430</td><td>11.1</td><td>&quot;-&quot;</td><td>198180</td><td>208191</td><td>10011</td><td>11424</td><td>186756</td><td>185082</td><td>1674</td><td>979</td><td>695</td><td>0.991036</td><td>0.889001</td><td>0.009018</td><td>0.009021</td><td>191</td><td>84255</td><td>83569</td><td>80570</td><td>185082</td><td>1674</td><td>21435</td><td>0.990024</td><td>1693</td><td>16</td><td>true</td><td>1</td><td>0</td><td>0</td><td>1</td><td>0</td><td>0</td></tr><tr><td>&hellip;</td><td>&hellip;</td><td>&hellip;</td><td>&hellip;</td><td>&hellip;</td><td>&hellip;</td><td>&hellip;</td><td>&hellip;</td><td>&hellip;</td><td>&hellip;</td><td>&hellip;</td><td>&hellip;</td><td>&hellip;</td><td>&hellip;</td><td>&hellip;</td><td>&hellip;</td><td>&hellip;</td><td>&hellip;</td><td>&hellip;</td><td>&hellip;</td><td>&hellip;</td><td>&hellip;</td><td>&hellip;</td><td>&hellip;</td><td>&hellip;</td><td>&hellip;</td><td>&hellip;</td><td>&hellip;</td><td>&hellip;</td><td>&hellip;</td><td>&hellip;</td><td>&hellip;</td><td>&hellip;</td><td>&hellip;</td><td>&hellip;</td><td>&hellip;</td><td>&hellip;</td><td>&hellip;</td><td>&hellip;</td><td>&hellip;</td><td>&hellip;</td><td>&hellip;</td><td>&hellip;</td><td>&hellip;</td></tr><tr><td>&quot;chrY&quot;</td><td>62445192</td><td>62453929</td><td>&quot;chr2:114018268…</td><td>0</td><td>&quot;+&quot;</td><td>62445192</td><td>62453929</td><td>&quot;204,204,0&quot;</td><td>&quot;chr2&quot;</td><td>114018268</td><td>114027657</td><td>22.1</td><td>&quot;+&quot;</td><td>9389</td><td>10120</td><td>731</td><td>1383</td><td>8006</td><td>7887</td><td>119</td><td>74</td><td>45</td><td>0.985136</td><td>0.779348</td><td>0.0150131</td><td>0.0150274</td><td>23</td><td>7777</td><td>6533</td><td>6412</td><td>7887</td><td>119</td><td>2114</td><td>0.982314</td><td>672</td><td>86514</td><td>false</td><td>1</td><td>0</td><td>0</td><td>0</td><td>0</td><td>0</td></tr><tr><td>&quot;chrY&quot;</td><td>62445192</td><td>62454747</td><td>&quot;chr20:70763-80…</td><td>0</td><td>&quot;+&quot;</td><td>62445192</td><td>62454747</td><td>&quot;133,133,133&quot;</td><td>&quot;chr20&quot;</td><td>70763</td><td>80691</td><td>23.6</td><td>&quot;-&quot;</td><td>9928</td><td>10924</td><td>996</td><td>1369</td><td>8559</td><td>8349</td><td>210</td><td>131</td><td>79</td><td>0.975464</td><td>0.76428</td><td>0.0249459</td><td>0.0249864</td><td>23</td><td>7783</td><td>6533</td><td>6361</td><td>8349</td><td>210</td><td>2365</td><td>0.97285</td><td>1151</td><td>89953</td><td>false</td><td>1</td><td>0</td><td>0</td><td>1</td><td>0</td><td>0</td></tr><tr><td>&quot;chrY&quot;</td><td>62445192</td><td>62456950</td><td>&quot;chr20:66197305…</td><td>0</td><td>&quot;+&quot;</td><td>62445192</td><td>62456950</td><td>&quot;204,204,0&quot;</td><td>&quot;chr20&quot;</td><td>66197305</td><td>66210255</td><td>19.3</td><td>&quot;+&quot;</td><td>12950</td><td>13584</td><td>634</td><td>1826</td><td>11124</td><td>10958</td><td>166</td><td>80</td><td>86</td><td>0.985077</td><td>0.806684</td><td>0.0150731</td><td>0.015077</td><td>72</td><td>7909</td><td>6533</td><td>6448</td><td>10958</td><td>166</td><td>2460</td><td>0.978742</td><td>1451</td><td>92524</td><td>false</td><td>1</td><td>0</td><td>0</td><td>1</td><td>0</td><td>0</td></tr><tr><td>&quot;chrY&quot;</td><td>62445192</td><td>62457871</td><td>&quot;chr3:201091920…</td><td>0</td><td>&quot;+&quot;</td><td>62445192</td><td>62457871</td><td>&quot;140,140,140&quot;</td><td>&quot;chr3&quot;</td><td>201091920</td><td>201105948</td><td>35.2</td><td>&quot;+&quot;</td><td>14028</td><td>16004</td><td>1976</td><td>3325</td><td>10703</td><td>10373</td><td>330</td><td>162</td><td>168</td><td>0.969168</td><td>0.64815</td><td>0.0314842</td><td>0.0315034</td><td>75</td><td>7708</td><td>6533</td><td>6361</td><td>10373</td><td>330</td><td>5301</td><td>0.962423</td><td>1125</td><td>105009</td><td>false</td><td>1</td><td>0</td><td>0</td><td>1</td><td>0</td><td>0</td></tr><tr><td>&quot;chrY&quot;</td><td>62445192</td><td>62458697</td><td>&quot;chr9:0-13758&quot;</td><td>0</td><td>&quot;+&quot;</td><td>62445192</td><td>62458697</td><td>&quot;131,131,131&quot;</td><td>&quot;chr9&quot;</td><td>0</td><td>13758</td><td>23.6</td><td>&quot;-&quot;</td><td>13758</td><td>15294</td><td>1536</td><td>1789</td><td>11969</td><td>11690</td><td>279</td><td>132</td><td>147</td><td>0.97669</td><td>0.764352</td><td>0.0236801</td><td>0.0236886</td><td>60</td><td>7750</td><td>6533</td><td>6407</td><td>11690</td><td>279</td><td>3325</td><td>0.971818</td><td>1692</td><td>116814</td><td>false</td><td>1</td><td>0</td><td>0</td><td>1</td><td>0</td><td>0</td></tr></tbody></table></div>"
      ],
      "text/plain": [
       "shape: (83_516, 44)\n",
       "┌───────┬────────────┬──────────┬──────────────────────────┬───┬──────┬───────┬───────┬───────┐\n",
       "│ chrom ┆ chromStart ┆ chromEnd ┆ name                     ┆ … ┆ acro ┆ telo2 ┆ peri2 ┆ acro2 │\n",
       "│ ---   ┆ ---        ┆ ---      ┆ ---                      ┆   ┆ ---  ┆ ---   ┆ ---   ┆ ---   │\n",
       "│ str   ┆ i64        ┆ i64      ┆ str                      ┆   ┆ i64  ┆ i64   ┆ i64   ┆ i64   │\n",
       "╞═══════╪════════════╪══════════╪══════════════════════════╪═══╪══════╪═══════╪═══════╪═══════╡\n",
       "│ chr1  ┆ 1          ┆ 13731    ┆ chr9:150595369-150617116 ┆ … ┆ 0    ┆ 1     ┆ 0     ┆ 0     │\n",
       "│ chr1  ┆ 3          ┆ 140066   ┆ chr6:171986258-172126591 ┆ … ┆ 0    ┆ 1     ┆ 0     ┆ 0     │\n",
       "│ chr1  ┆ 16         ┆ 13731    ┆ chr20:599-21749          ┆ … ┆ 0    ┆ 1     ┆ 0     ┆ 0     │\n",
       "│ chr1  ┆ 16         ┆ 13731    ┆ chr7:156-22557           ┆ … ┆ 0    ┆ 1     ┆ 0     ┆ 0     │\n",
       "│ chr1  ┆ 16         ┆ 198196   ┆ chr5:181848663-182045430 ┆ … ┆ 0    ┆ 1     ┆ 0     ┆ 0     │\n",
       "│ …     ┆ …          ┆ …        ┆ …                        ┆ … ┆ …    ┆ …     ┆ …     ┆ …     │\n",
       "│ chrY  ┆ 62445192   ┆ 62453929 ┆ chr2:114018268-114027657 ┆ … ┆ 0    ┆ 0     ┆ 0     ┆ 0     │\n",
       "│ chrY  ┆ 62445192   ┆ 62454747 ┆ chr20:70763-80691        ┆ … ┆ 0    ┆ 1     ┆ 0     ┆ 0     │\n",
       "│ chrY  ┆ 62445192   ┆ 62456950 ┆ chr20:66197305-66210255  ┆ … ┆ 0    ┆ 1     ┆ 0     ┆ 0     │\n",
       "│ chrY  ┆ 62445192   ┆ 62457871 ┆ chr3:201091920-201105948 ┆ … ┆ 0    ┆ 1     ┆ 0     ┆ 0     │\n",
       "│ chrY  ┆ 62445192   ┆ 62458697 ┆ chr9:0-13758             ┆ … ┆ 0    ┆ 1     ┆ 0     ┆ 0     │\n",
       "└───────┴────────────┴──────────┴──────────────────────────┴───┴──────┴───────┴───────┴───────┘"
      ]
     },
     "execution_count": 5,
     "metadata": {},
     "output_type": "execute_result"
    }
   ],
   "source": [
    "df_segdups = pl.read_csv(\n",
    "    \"data/sedefSegDups.bed\",\n",
    "    separator=\"\\t\",\n",
    "    new_columns=SEGDUP_COLS,\n",
    "    has_header=False\n",
    ")\n",
    "df_segdups"
   ]
  },
  {
   "cell_type": "code",
   "execution_count": 6,
   "metadata": {},
   "outputs": [],
   "source": [
    "CENSAT_COLS = [\n",
    "    \"chrom\",\n",
    "    \"chromStart\",\n",
    "    \"chromEnd\",\n",
    "    \"name\",\n",
    "    \"score\",\n",
    "    \"strand\",\n",
    "    \"thickStart\",\n",
    "    \"thickEnd\",\n",
    "    \"reserved\",\n",
    "    \"component\"\n",
    "]"
   ]
  },
  {
   "cell_type": "code",
   "execution_count": 7,
   "metadata": {},
   "outputs": [
    {
     "data": {
      "text/html": [
       "<div><style>\n",
       ".dataframe > thead > tr,\n",
       ".dataframe > tbody > tr {\n",
       "  text-align: right;\n",
       "  white-space: pre-wrap;\n",
       "}\n",
       "</style>\n",
       "<small>shape: (2_523, 10)</small><table border=\"1\" class=\"dataframe\"><thead><tr><th>chrom</th><th>chromStart</th><th>chromEnd</th><th>name</th><th>score</th><th>strand</th><th>thickStart</th><th>thickEnd</th><th>reserved</th><th>component</th></tr><tr><td>str</td><td>i64</td><td>i64</td><td>str</td><td>i64</td><td>str</td><td>i64</td><td>i64</td><td>str</td><td>str</td></tr></thead><tbody><tr><td>&quot;chr1&quot;</td><td>116796047</td><td>121405145</td><td>&quot;ct_1_1(p_arm)&quot;</td><td>100</td><td>&quot;.&quot;</td><td>116796047</td><td>121405145</td><td>&quot;224,224,224&quot;</td><td>&quot;ct_1_1(p_arm)&quot;</td></tr><tr><td>&quot;chr1&quot;</td><td>121405145</td><td>121406286</td><td>&quot;censat_1_1&quot;</td><td>100</td><td>&quot;.&quot;</td><td>121405145</td><td>121406286</td><td>&quot;0,204,204&quot;</td><td>&quot;censat_1_1(rnd…</td></tr><tr><td>&quot;chr1&quot;</td><td>121406286</td><td>121619169</td><td>&quot;ct_1_2&quot;</td><td>100</td><td>&quot;.&quot;</td><td>121406286</td><td>121619169</td><td>&quot;224,224,224&quot;</td><td>&quot;ct_1_2&quot;</td></tr><tr><td>&quot;chr1&quot;</td><td>121619169</td><td>121625213</td><td>&quot;hor_1_1(S3C1H2…</td><td>100</td><td>&quot;.&quot;</td><td>121619169</td><td>121625213</td><td>&quot;255,146,0&quot;</td><td>&quot;hor_1_1(S3C1H2…</td></tr><tr><td>&quot;chr1&quot;</td><td>121625213</td><td>121667941</td><td>&quot;hor_1_2(S3C1H2…</td><td>100</td><td>&quot;.&quot;</td><td>121625213</td><td>121667941</td><td>&quot;255,146,0&quot;</td><td>&quot;hor_1_2(S3C1H2…</td></tr><tr><td>&hellip;</td><td>&hellip;</td><td>&hellip;</td><td>&hellip;</td><td>&hellip;</td><td>&hellip;</td><td>&hellip;</td><td>&hellip;</td><td>&hellip;</td><td>&hellip;</td></tr><tr><td>&quot;chrY&quot;</td><td>62025776</td><td>62037362</td><td>&quot;censat_Y_97&quot;</td><td>100</td><td>&quot;.&quot;</td><td>62025776</td><td>62037362</td><td>&quot;0,204,204&quot;</td><td>&quot;censat_Y_97(CO…</td></tr><tr><td>&quot;chrY&quot;</td><td>62052955</td><td>62059882</td><td>&quot;censat_Y_98&quot;</td><td>100</td><td>&quot;.&quot;</td><td>62052955</td><td>62059882</td><td>&quot;0,204,204&quot;</td><td>&quot;censat_Y_98(CO…</td></tr><tr><td>&quot;chrY&quot;</td><td>62061431</td><td>62072743</td><td>&quot;hsat3_Y_50(A4)…</td><td>100</td><td>&quot;.&quot;</td><td>62061431</td><td>62072743</td><td>&quot;0,0,250&quot;</td><td>&quot;hsat3_Y_50(A4)…</td></tr><tr><td>&quot;chrY&quot;</td><td>62072743</td><td>62087298</td><td>&quot;bsat_Y_34&quot;</td><td>100</td><td>&quot;.&quot;</td><td>62072743</td><td>62087298</td><td>&quot;250,153,255&quot;</td><td>&quot;bsat_Y_34&quot;</td></tr><tr><td>&quot;chrY&quot;</td><td>62452320</td><td>62453637</td><td>&quot;censat_Y_99&quot;</td><td>100</td><td>&quot;.&quot;</td><td>62452320</td><td>62453637</td><td>&quot;0,204,204&quot;</td><td>&quot;censat_Y_99(TA…</td></tr></tbody></table></div>"
      ],
      "text/plain": [
       "shape: (2_523, 10)\n",
       "┌───────┬────────────┬───────────┬────────────┬───┬────────────┬───────────┬───────────┬───────────┐\n",
       "│ chrom ┆ chromStart ┆ chromEnd  ┆ name       ┆ … ┆ thickStart ┆ thickEnd  ┆ reserved  ┆ component │\n",
       "│ ---   ┆ ---        ┆ ---       ┆ ---        ┆   ┆ ---        ┆ ---       ┆ ---       ┆ ---       │\n",
       "│ str   ┆ i64        ┆ i64       ┆ str        ┆   ┆ i64        ┆ i64       ┆ str       ┆ str       │\n",
       "╞═══════╪════════════╪═══════════╪════════════╪═══╪════════════╪═══════════╪═══════════╪═══════════╡\n",
       "│ chr1  ┆ 116796047  ┆ 121405145 ┆ ct_1_1(p_a ┆ … ┆ 116796047  ┆ 121405145 ┆ 224,224,2 ┆ ct_1_1(p_ │\n",
       "│       ┆            ┆           ┆ rm)        ┆   ┆            ┆           ┆ 24        ┆ arm)      │\n",
       "│ chr1  ┆ 121405145  ┆ 121406286 ┆ censat_1_1 ┆ … ┆ 121405145  ┆ 121406286 ┆ 0,204,204 ┆ censat_1_ │\n",
       "│       ┆            ┆           ┆            ┆   ┆            ┆           ┆           ┆ 1(rnd-6_f │\n",
       "│       ┆            ┆           ┆            ┆   ┆            ┆           ┆           ┆ amily-438 │\n",
       "│       ┆            ┆           ┆            ┆   ┆            ┆           ┆           ┆ 4)        │\n",
       "│ chr1  ┆ 121406286  ┆ 121619169 ┆ ct_1_2     ┆ … ┆ 121406286  ┆ 121619169 ┆ 224,224,2 ┆ ct_1_2    │\n",
       "│       ┆            ┆           ┆            ┆   ┆            ┆           ┆ 24        ┆           │\n",
       "│ chr1  ┆ 121619169  ┆ 121625213 ┆ hor_1_1(S3 ┆ … ┆ 121619169  ┆ 121625213 ┆ 255,146,0 ┆ hor_1_1(S │\n",
       "│       ┆            ┆           ┆ C1H2-A,B,C ┆   ┆            ┆           ┆           ┆ 3C1H2-A,B │\n",
       "│       ┆            ┆           ┆ )          ┆   ┆            ┆           ┆           ┆ ,C)       │\n",
       "│ chr1  ┆ 121625213  ┆ 121667941 ┆ hor_1_2(S3 ┆ … ┆ 121625213  ┆ 121667941 ┆ 255,146,0 ┆ hor_1_2(S │\n",
       "│       ┆            ┆           ┆ C1H2-A,B)  ┆   ┆            ┆           ┆           ┆ 3C1H2-A,B │\n",
       "│       ┆            ┆           ┆            ┆   ┆            ┆           ┆           ┆ )         │\n",
       "│ …     ┆ …          ┆ …         ┆ …          ┆ … ┆ …          ┆ …         ┆ …         ┆ …         │\n",
       "│ chrY  ┆ 62025776   ┆ 62037362  ┆ censat_Y_9 ┆ … ┆ 62025776   ┆ 62037362  ┆ 0,204,204 ┆ censat_Y_ │\n",
       "│       ┆            ┆           ┆ 7          ┆   ┆            ┆           ┆           ┆ 97(COMP-s │\n",
       "│       ┆            ┆           ┆            ┆   ┆            ┆           ┆           ┆ ubunit_ME │\n",
       "│       ┆            ┆           ┆            ┆   ┆            ┆           ┆           ┆ R5A1_…    │\n",
       "│ chrY  ┆ 62052955   ┆ 62059882  ┆ censat_Y_9 ┆ … ┆ 62052955   ┆ 62059882  ┆ 0,204,204 ┆ censat_Y_ │\n",
       "│       ┆            ┆           ┆ 8          ┆   ┆            ┆           ┆           ┆ 98(COMP-s │\n",
       "│       ┆            ┆           ┆            ┆   ┆            ┆           ┆           ┆ ubunit_ME │\n",
       "│       ┆            ┆           ┆            ┆   ┆            ┆           ┆           ┆ R5A1_…    │\n",
       "│ chrY  ┆ 62061431   ┆ 62072743  ┆ hsat3_Y_50 ┆ … ┆ 62061431   ┆ 62072743  ┆ 0,0,250   ┆ hsat3_Y_5 │\n",
       "│       ┆            ┆           ┆ (A4)       ┆   ┆            ┆           ┆           ┆ 0(A4)     │\n",
       "│ chrY  ┆ 62072743   ┆ 62087298  ┆ bsat_Y_34  ┆ … ┆ 62072743   ┆ 62087298  ┆ 250,153,2 ┆ bsat_Y_34 │\n",
       "│       ┆            ┆           ┆            ┆   ┆            ┆           ┆ 55        ┆           │\n",
       "│ chrY  ┆ 62452320   ┆ 62453637  ┆ censat_Y_9 ┆ … ┆ 62452320   ┆ 62453637  ┆ 0,204,204 ┆ censat_Y_ │\n",
       "│       ┆            ┆           ┆ 9          ┆   ┆            ┆           ┆           ┆ 99(TAR1)  │\n",
       "└───────┴────────────┴───────────┴────────────┴───┴────────────┴───────────┴───────────┴───────────┘"
      ]
     },
     "execution_count": 7,
     "metadata": {},
     "output_type": "execute_result"
    }
   ],
   "source": [
    "df_censat = pl.read_csv(\n",
    "    \"data/censat.bed\",\n",
    "    separator=\"\\t\",\n",
    "    new_columns=CENSAT_COLS,\n",
    "    has_header=False\n",
    ")\n",
    "df_censat"
   ]
  },
  {
   "cell_type": "code",
   "execution_count": 17,
   "metadata": {},
   "outputs": [
    {
     "data": {
      "text/html": [
       "<div><style>\n",
       ".dataframe > thead > tr,\n",
       ".dataframe > tbody > tr {\n",
       "  text-align: right;\n",
       "  white-space: pre-wrap;\n",
       "}\n",
       "</style>\n",
       "<small>shape: (57, 10)</small><table border=\"1\" class=\"dataframe\"><thead><tr><th>chrom</th><th>chromStart</th><th>chromEnd</th><th>name</th><th>score</th><th>strand</th><th>thickStart</th><th>thickEnd</th><th>reserved</th><th>component</th></tr><tr><td>str</td><td>i64</td><td>i64</td><td>str</td><td>i64</td><td>str</td><td>i64</td><td>i64</td><td>str</td><td>str</td></tr></thead><tbody><tr><td>&quot;chr1&quot;</td><td>116796047</td><td>121405145</td><td>&quot;ct_1_1(p_arm)&quot;</td><td>100</td><td>&quot;.&quot;</td><td>116796047</td><td>121405145</td><td>&quot;224,224,224&quot;</td><td>&quot;ct_1_1(p_arm)&quot;</td></tr><tr><td>&quot;chr1&quot;</td><td>121405145</td><td>121406286</td><td>&quot;censat_1_1&quot;</td><td>100</td><td>&quot;.&quot;</td><td>121405145</td><td>121406286</td><td>&quot;0,204,204&quot;</td><td>&quot;censat_1_1(rnd…</td></tr><tr><td>&quot;chr1&quot;</td><td>121406286</td><td>121619169</td><td>&quot;ct_1_2&quot;</td><td>100</td><td>&quot;.&quot;</td><td>121406286</td><td>121619169</td><td>&quot;224,224,224&quot;</td><td>&quot;ct_1_2&quot;</td></tr><tr><td>&quot;chr1&quot;</td><td>121788213</td><td>121790362</td><td>&quot;ct_1_3&quot;</td><td>100</td><td>&quot;.&quot;</td><td>121788213</td><td>121790362</td><td>&quot;224,224,224&quot;</td><td>&quot;ct_1_3&quot;</td></tr><tr><td>&quot;chr1&quot;</td><td>126824128</td><td>126828704</td><td>&quot;censat_1_2&quot;</td><td>100</td><td>&quot;.&quot;</td><td>126824128</td><td>126828704</td><td>&quot;0,204,204&quot;</td><td>&quot;censat_1_2(SST…</td></tr><tr><td>&hellip;</td><td>&hellip;</td><td>&hellip;</td><td>&hellip;</td><td>&hellip;</td><td>&hellip;</td><td>&hellip;</td><td>&hellip;</td><td>&hellip;</td><td>&hellip;</td></tr><tr><td>&quot;chr1&quot;</td><td>143424993</td><td>143742419</td><td>&quot;ct_1_28&quot;</td><td>100</td><td>&quot;.&quot;</td><td>143424993</td><td>143742419</td><td>&quot;224,224,224&quot;</td><td>&quot;ct_1_28&quot;</td></tr><tr><td>&quot;chr1&quot;</td><td>143742419</td><td>143743494</td><td>&quot;censat_1_24&quot;</td><td>100</td><td>&quot;.&quot;</td><td>143742419</td><td>143743494</td><td>&quot;0,204,204&quot;</td><td>&quot;censat_1_24(rn…</td></tr><tr><td>&quot;chr1&quot;</td><td>143743494</td><td>144007117</td><td>&quot;ct_1_29&quot;</td><td>100</td><td>&quot;.&quot;</td><td>143743494</td><td>144007117</td><td>&quot;224,224,224&quot;</td><td>&quot;ct_1_29&quot;</td></tr><tr><td>&quot;chr1&quot;</td><td>144007117</td><td>144008994</td><td>&quot;censat_1_25&quot;</td><td>100</td><td>&quot;.&quot;</td><td>144007117</td><td>144008994</td><td>&quot;0,204,204&quot;</td><td>&quot;censat_1_25(rn…</td></tr><tr><td>&quot;chr1&quot;</td><td>144008994</td><td>147241659</td><td>&quot;ct_1_30(q_arm)…</td><td>100</td><td>&quot;.&quot;</td><td>144008994</td><td>147241659</td><td>&quot;224,224,224&quot;</td><td>&quot;ct_1_30(q_arm)…</td></tr></tbody></table></div>"
      ],
      "text/plain": [
       "shape: (57, 10)\n",
       "┌───────┬────────────┬───────────┬────────────┬───┬────────────┬───────────┬───────────┬───────────┐\n",
       "│ chrom ┆ chromStart ┆ chromEnd  ┆ name       ┆ … ┆ thickStart ┆ thickEnd  ┆ reserved  ┆ component │\n",
       "│ ---   ┆ ---        ┆ ---       ┆ ---        ┆   ┆ ---        ┆ ---       ┆ ---       ┆ ---       │\n",
       "│ str   ┆ i64        ┆ i64       ┆ str        ┆   ┆ i64        ┆ i64       ┆ str       ┆ str       │\n",
       "╞═══════╪════════════╪═══════════╪════════════╪═══╪════════════╪═══════════╪═══════════╪═══════════╡\n",
       "│ chr1  ┆ 116796047  ┆ 121405145 ┆ ct_1_1(p_a ┆ … ┆ 116796047  ┆ 121405145 ┆ 224,224,2 ┆ ct_1_1(p_ │\n",
       "│       ┆            ┆           ┆ rm)        ┆   ┆            ┆           ┆ 24        ┆ arm)      │\n",
       "│ chr1  ┆ 121405145  ┆ 121406286 ┆ censat_1_1 ┆ … ┆ 121405145  ┆ 121406286 ┆ 0,204,204 ┆ censat_1_ │\n",
       "│       ┆            ┆           ┆            ┆   ┆            ┆           ┆           ┆ 1(rnd-6_f │\n",
       "│       ┆            ┆           ┆            ┆   ┆            ┆           ┆           ┆ amily-438 │\n",
       "│       ┆            ┆           ┆            ┆   ┆            ┆           ┆           ┆ 4)        │\n",
       "│ chr1  ┆ 121406286  ┆ 121619169 ┆ ct_1_2     ┆ … ┆ 121406286  ┆ 121619169 ┆ 224,224,2 ┆ ct_1_2    │\n",
       "│       ┆            ┆           ┆            ┆   ┆            ┆           ┆ 24        ┆           │\n",
       "│ chr1  ┆ 121788213  ┆ 121790362 ┆ ct_1_3     ┆ … ┆ 121788213  ┆ 121790362 ┆ 224,224,2 ┆ ct_1_3    │\n",
       "│       ┆            ┆           ┆            ┆   ┆            ┆           ┆ 24        ┆           │\n",
       "│ chr1  ┆ 126824128  ┆ 126828704 ┆ censat_1_2 ┆ … ┆ 126824128  ┆ 126828704 ┆ 0,204,204 ┆ censat_1_ │\n",
       "│       ┆            ┆           ┆            ┆   ┆            ┆           ┆           ┆ 2(SST1_Co │\n",
       "│       ┆            ┆           ┆            ┆   ┆            ┆           ┆           ┆ mposite)  │\n",
       "│ …     ┆ …          ┆ …         ┆ …          ┆ … ┆ …          ┆ …         ┆ …         ┆ …         │\n",
       "│ chr1  ┆ 143424993  ┆ 143742419 ┆ ct_1_28    ┆ … ┆ 143424993  ┆ 143742419 ┆ 224,224,2 ┆ ct_1_28   │\n",
       "│       ┆            ┆           ┆            ┆   ┆            ┆           ┆ 24        ┆           │\n",
       "│ chr1  ┆ 143742419  ┆ 143743494 ┆ censat_1_2 ┆ … ┆ 143742419  ┆ 143743494 ┆ 0,204,204 ┆ censat_1_ │\n",
       "│       ┆            ┆           ┆ 4          ┆   ┆            ┆           ┆           ┆ 24(rnd-6_ │\n",
       "│       ┆            ┆           ┆            ┆   ┆            ┆           ┆           ┆ family-43 │\n",
       "│       ┆            ┆           ┆            ┆   ┆            ┆           ┆           ┆ 84)       │\n",
       "│ chr1  ┆ 143743494  ┆ 144007117 ┆ ct_1_29    ┆ … ┆ 143743494  ┆ 144007117 ┆ 224,224,2 ┆ ct_1_29   │\n",
       "│       ┆            ┆           ┆            ┆   ┆            ┆           ┆ 24        ┆           │\n",
       "│ chr1  ┆ 144007117  ┆ 144008994 ┆ censat_1_2 ┆ … ┆ 144007117  ┆ 144008994 ┆ 0,204,204 ┆ censat_1_ │\n",
       "│       ┆            ┆           ┆ 5          ┆   ┆            ┆           ┆           ┆ 25(rnd-6_ │\n",
       "│       ┆            ┆           ┆            ┆   ┆            ┆           ┆           ┆ family-43 │\n",
       "│       ┆            ┆           ┆            ┆   ┆            ┆           ┆           ┆ 84)       │\n",
       "│ chr1  ┆ 144008994  ┆ 147241659 ┆ ct_1_30(q_ ┆ … ┆ 144008994  ┆ 147241659 ┆ 224,224,2 ┆ ct_1_30(q │\n",
       "│       ┆            ┆           ┆ arm)       ┆   ┆            ┆           ┆ 24        ┆ _arm)     │\n",
       "└───────┴────────────┴───────────┴────────────┴───┴────────────┴───────────┴───────────┴───────────┘"
      ]
     },
     "execution_count": 17,
     "metadata": {},
     "output_type": "execute_result"
    }
   ],
   "source": [
    "df_censat.filter(\n",
    "    (pl.col(\"chrom\") == \"chr1\") &\n",
    "    (~pl.col(\"name\").str.contains(\"hor\")) &\n",
    "    (~pl.col(\"name\").str.contains(\"hsat\"))\n",
    ")"
   ]
  }
 ],
 "metadata": {
  "kernelspec": {
   "display_name": "jupyter",
   "language": "python",
   "name": "python3"
  },
  "language_info": {
   "codemirror_mode": {
    "name": "ipython",
    "version": 3
   },
   "file_extension": ".py",
   "mimetype": "text/x-python",
   "name": "python",
   "nbconvert_exporter": "python",
   "pygments_lexer": "ipython3",
   "version": "3.12.2"
  }
 },
 "nbformat": 4,
 "nbformat_minor": 2
}
